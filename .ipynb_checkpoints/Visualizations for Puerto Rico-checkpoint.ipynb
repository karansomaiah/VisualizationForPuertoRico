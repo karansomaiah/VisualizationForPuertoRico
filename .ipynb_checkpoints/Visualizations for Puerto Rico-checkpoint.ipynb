{
 "cells": [
  {
   "cell_type": "code",
   "execution_count": 20,
   "metadata": {},
   "outputs": [],
   "source": [
    "import pandas as pd\n",
    "from bokeh.io import curdoc\n",
    "from bokeh.layouts import row, column\n",
    "from bokeh.models import ColumnDataSource, Select\n",
    "from bokeh.plotting import figure\n",
    "\n",
    "\n",
    "def get_dataset(src, name):\n",
    "    temp_df = src[src['Resource'] == name]\n",
    "    return ColumnDataSource(data=df)\n",
    "\n",
    "\n",
    "def make_plot(source, title):\n",
    "    plot = figure(plot_width=800, tools=\"\", toolbar_location=None)\n",
    "    plot.title.text = title\n",
    "    plot.line(x='Date', y='Value', source=source)\n",
    "    return plot\n",
    "\n",
    "\n",
    "def update_plot(attrname, old, new):\n",
    "    ver = vselect.value\n",
    "    plot.title.text = \"xxx\"\n",
    "    src = get_dataset(df, ver)\n",
    "    source.date.update(src.date)\n",
    "\n",
    "\n",
    "df = pd.read_csv('StatusPR.csv',  parse_dates=['Date'])\n",
    "ver = 'aps'\n",
    "\n",
    "cc = df['Resource'].unique()\n",
    "\n",
    "vselect = Select(value=ver, title='VER', options=sorted((cc)))\n",
    "\n",
    "source = get_dataset(df, ver)\n",
    "plot = make_plot(source, \"xxx\")\n",
    "\n",
    "vselect.on_change('value', update_plot)\n",
    "controls = column(vselect)\n",
    "\n",
    "curdoc().add_root(row(plot, controls))"
   ]
  },
  {
   "cell_type": "code",
   "execution_count": null,
   "metadata": {
    "collapsed": true
   },
   "outputs": [],
   "source": []
  }
 ],
 "metadata": {
  "kernelspec": {
   "display_name": "Python 3",
   "language": "python",
   "name": "python3"
  },
  "language_info": {
   "codemirror_mode": {
    "name": "ipython",
    "version": 3
   },
   "file_extension": ".py",
   "mimetype": "text/x-python",
   "name": "python",
   "nbconvert_exporter": "python",
   "pygments_lexer": "ipython3",
   "version": "3.6.2"
  }
 },
 "nbformat": 4,
 "nbformat_minor": 2
}
